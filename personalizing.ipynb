{
 "cells": [
  {
   "attachments": {},
   "cell_type": "markdown",
   "metadata": {},
   "source": [
    "# Personalizing Sustainable Agriculture with Causal Machine Learning\n",
    "\n",
    "### *Tackling Climate Change with Machine Learning Workshop @ NeurIPS'22* | **Best Proposal Paper**\n",
    "\n",
    "#### Authors: Georgios Giannarakis, Vasileios Sitokonstantinou, Roxanne Suzette Lorilla, Charalampos Kontoes | National Observatory of Athens, Greece"
   ]
  },
  {
   "attachments": {},
   "cell_type": "markdown",
   "metadata": {},
   "source": [
    "This jupyter notebook contains the code required to implement and reproduce the \"Personalizing Sustainable Agriculture with Causal Machine Learning\" paper.\n",
    "\n",
    "**NB**: Due to privacy reasons, some data cannot be open-sourced. This includes crop declaration data (found in ```IACS``` dataframes in the script) and soil organic carbon content values (found in the ```SOC``` dataframe). For retrieving crop declaration data via an Earth Observation (EO) based service such as [EuroCrops](https://www.eurocrops.tum.de/). To derive parcel-level SOC content values, we again refer the interested reader to the EO literature (https://doi.org/10.1016/j.rse.2020.111793), which is what was also used in the paper."
   ]
  },
  {
   "attachments": {},
   "cell_type": "markdown",
   "metadata": {},
   "source": [
    "### Abbreviations\n",
    "\n",
    "- SOC = Soil Organic Carbon\n",
    "- IACS = Integrated Administration and Control System\n",
    "- LPIS = Land Parcel Identification System\n",
    "- ECO = LPIS with an indicator for fields practicing eco-friendly practices that year\n",
    "- ERA5 = The fifth generation ECMWF reanalysis for the global climate and weather\n",
    "\n",
    "Note that IACS and LPIS are used interchangeably. They simply refer to the crop declarations (aka crop type map) of a single year. These are not inferred via remote sensing: it is simply what the farmer declared (the ground truth)."
   ]
  },
  {
   "attachments": {},
   "cell_type": "markdown",
   "metadata": {},
   "source": [
    "### High-level flow:\n",
    "\n",
    "1. Create dataframe for 2021 with SOC, IACS, ECO info\n",
    "2. Create dataframe for 2020 with IACS, ECO info\n",
    "3. Match geometries and filter for parcels whose geometry remained constant\n",
    "4. Extend matched dataframe with ERA5 info\n",
    "5. Causal analysis with EconML\n",
    "6. Visualizing the results"
   ]
  },
  {
   "cell_type": "markdown",
   "metadata": {},
   "source": [
    "# Imports"
   ]
  },
  {
   "attachments": {},
   "cell_type": "markdown",
   "metadata": {},
   "source": [
    "Refer to ```requirements.txt``` file."
   ]
  },
  {
   "cell_type": "code",
   "execution_count": 1,
   "metadata": {},
   "outputs": [],
   "source": [
    "import pandas as pd\n",
    "from pandas import read_excel\n",
    "import numpy as np\n",
    "import os\n",
    "import geopandas as gpd\n",
    "import shapely\n",
    "import netCDF4\n",
    "import xarray as xr \n",
    "import rioxarray as rio\n",
    "import matplotlib\n",
    "import glob\n",
    "from sklearn.preprocessing import StandardScaler\n",
    "from sklearn.linear_model import LassoCV, LogisticRegression, LinearRegression, Lasso\n",
    "from sklearn.ensemble import RandomForestClassifier, RandomForestRegressor, GradientBoostingClassifier, GradientBoostingRegressor\n",
    "from econml.dml import SparseLinearDML, LinearDML, CausalForestDML"
   ]
  },
  {
   "cell_type": "markdown",
   "metadata": {},
   "source": [
    "### 1. Data from 2021"
   ]
  },
  {
   "cell_type": "code",
   "execution_count": 2,
   "metadata": {},
   "outputs": [],
   "source": [
    "# Read IACS/SOC 2021\n",
    "file_dir = '/nfs/data2/EIFFEL/'\n",
    "soc21 = gpd.read_file(os.path.join(file_dir, 'Lithuania_SOC_parcel/lithuania_soc_fields.shp')).set_crs('EPSG:3346').to_crs('EPSG:3857')"
   ]
  },
  {
   "cell_type": "code",
   "execution_count": 3,
   "metadata": {},
   "outputs": [],
   "source": [
    "# Read English crop codes\n",
    "file_dir = '/nfs/data2/EIFFEL/'\n",
    "my_sheet = 'Sheet1'\n",
    "file_name = 'paseliu2020_kodai_ENG.xls'\n",
    "crop_codes = pd.read_excel(os.path.join(file_dir, file_name), sheet_name = my_sheet)"
   ]
  },
  {
   "cell_type": "code",
   "execution_count": 4,
   "metadata": {},
   "outputs": [],
   "source": [
    "# Augment SOC21 with English info\n",
    "soc21 = soc21.rename(columns={'PSL_KODAS': 'code'}).merge(crop_codes, on='code', how='left')"
   ]
  },
  {
   "cell_type": "code",
   "execution_count": 5,
   "metadata": {},
   "outputs": [],
   "source": [
    "# Read ECO 2021\n",
    "file_dir = '/nfs/data2/EIFFEL/'\n",
    "eco = gpd.read_file(os.path.join(file_dir, 'eco_shp/eco_21.shp')).set_crs('EPSG:3346').to_crs('EPSG:3857')"
   ]
  },
  {
   "cell_type": "code",
   "execution_count": 6,
   "metadata": {},
   "outputs": [],
   "source": [
    "# create id and drop duplicates on ECO21 fields to ensure 1-1 outcome when merging on id\n",
    "eco[\"id\"] = eco[\"BLK_NR\"] + \"-\" + eco[\"LAUKO_NR\"] + \"-\" + eco[\"PSL_KODAS\"]\n",
    "eco[\"id\"] = eco.id.astype(str)\n",
    "eco = eco.drop_duplicates(subset=['id'])"
   ]
  },
  {
   "cell_type": "code",
   "execution_count": 7,
   "metadata": {},
   "outputs": [],
   "source": [
    "# create id and drop duplicates on SOC21 to ensure 1-1 outcome when merging on id\n",
    "soc21[\"id\"] = soc21[\"BLK_NR\"] + \"-\" + soc21[\"LAUKO_NR\"] + \"-\" + soc21[\"code\"]\n",
    "soc21 = soc21.drop_duplicates(subset=['id'])"
   ]
  },
  {
   "cell_type": "code",
   "execution_count": 8,
   "metadata": {},
   "outputs": [],
   "source": [
    "# left join SOC21 with ECO21 on id and drop irrelevant columns\n",
    "soc_eco21 = soc21.merge(eco[[\"Programa\", \"RGR\", \"id\"]], on='id', how='left')\n",
    "soc_eco21 = soc_eco21.drop(columns=[\"BLK_NR\", \"LAUKO_NR\"])"
   ]
  },
  {
   "cell_type": "code",
   "execution_count": 9,
   "metadata": {},
   "outputs": [],
   "source": [
    "# create dummies for the 8 crop groups found in the dataset\n",
    "soc_eco21 = pd.get_dummies(soc_eco21, columns=['group'], prefix='', prefix_sep='')"
   ]
  },
  {
   "cell_type": "code",
   "execution_count": 10,
   "metadata": {},
   "outputs": [],
   "source": [
    "# create is_eco column (binary)\n",
    "soc_eco21['Programa'] = soc_eco21['Programa'].fillna(0)\n",
    "soc_eco21['is_eco'] = np.where(soc_eco21.Programa == 0, 0, 1)"
   ]
  },
  {
   "cell_type": "markdown",
   "metadata": {},
   "source": [
    "### 2. Data from 2020"
   ]
  },
  {
   "cell_type": "code",
   "execution_count": 12,
   "metadata": {},
   "outputs": [],
   "source": [
    "# Read IACS20 (henceforth SOC20 for symmetry)\n",
    "os.chdir('/nfs/data2/EIFFEL/IACS/inc_387887_2020')\n",
    "soc20 = gpd.read_file('inc_387887_2020.shp').set_crs('EPSG:3346').to_crs('EPSG:3857')"
   ]
  },
  {
   "cell_type": "code",
   "execution_count": 13,
   "metadata": {},
   "outputs": [],
   "source": [
    "# Augment SOC20 with English info\n",
    "soc20 = soc20.rename(columns={'PSL_KODAS': 'code'}).merge(crop_codes, on='code', how='left')"
   ]
  },
  {
   "cell_type": "code",
   "execution_count": 14,
   "metadata": {},
   "outputs": [],
   "source": [
    "# Read ECO20\n",
    "file_dir = '/nfs/data2/EIFFEL/'\n",
    "eco20 = gpd.read_file(os.path.join(file_dir, 'eco_shp/eco_20.shp')).set_crs('EPSG:3346').to_crs('EPSG:3857')"
   ]
  },
  {
   "cell_type": "code",
   "execution_count": 15,
   "metadata": {},
   "outputs": [],
   "source": [
    "# create id and drop duplicates on ECO20 fields to ensure 1-1 outcome when merging on id\n",
    "eco20[\"id\"] = eco20[\"BLK_NR\"] + \"-\" + eco20[\"LAUKO_NR\"] + \"-\" + eco20[\"PSL_KODAS\"]\n",
    "eco20[\"id\"] = eco20.id.astype(str)\n",
    "eco20 = eco20.drop_duplicates(subset=['id'])"
   ]
  },
  {
   "cell_type": "code",
   "execution_count": 16,
   "metadata": {},
   "outputs": [],
   "source": [
    "# create id and drop duplicates on SOC20 fields to ensure 1-1 outcome when merging on id\n",
    "soc20[\"id\"] = soc20[\"BLK_NR\"] + \"-\" + soc20[\"LAUKO_NR\"] + \"-\" + soc20[\"code\"]\n",
    "soc20 = soc20.drop_duplicates(subset=['id'])"
   ]
  },
  {
   "cell_type": "code",
   "execution_count": 17,
   "metadata": {},
   "outputs": [],
   "source": [
    "# left join SOC20 with ECO20 on id and drop irrelevant columns\n",
    "soc_eco20 = soc20.merge(eco20[[\"Programa\", \"RGR\", \"id\"]], on='id', how='left')\n",
    "soc_eco20 = soc_eco20.drop(columns=[\"BLK_NR\", \"LAUKO_NR\"])"
   ]
  },
  {
   "cell_type": "code",
   "execution_count": 18,
   "metadata": {},
   "outputs": [],
   "source": [
    "# create dummies for the 8 crop groups found in the dataset\n",
    "soc_eco20 = pd.get_dummies(soc_eco20, columns=['group'], prefix='', prefix_sep='')"
   ]
  },
  {
   "cell_type": "code",
   "execution_count": 19,
   "metadata": {},
   "outputs": [],
   "source": [
    "# create is_eco column (binary)\n",
    "soc_eco20['Programa'] = soc_eco20['Programa'].fillna(0)\n",
    "soc_eco20['is_eco'] = np.where(soc_eco20.Programa == 0, 0, 1)"
   ]
  },
  {
   "attachments": {},
   "cell_type": "markdown",
   "metadata": {},
   "source": [
    "### 3. Match 2021-2020 geometries to find parcels constant in space and time"
   ]
  },
  {
   "cell_type": "markdown",
   "metadata": {},
   "source": [
    "Matching is done as follows: First, initialize a spatial index on the relevant geometries. Then, apply the ```geopandas.sindex.SpatialIndex.nearest``` to the index with the second geometry as argument. Finally, calculate the centroid distance between each 2021 parcel and its 2020 matched counterpart, and only keep the parcels whose centroids were \"close enough\" (based on an arbitrary threshold). These are the \"constant\" (over the period of reference) parcels."
   ]
  },
  {
   "cell_type": "code",
   "execution_count": 20,
   "metadata": {},
   "outputs": [],
   "source": [
    "s21 = soc_eco21.geometry.sindex # initialize spatial index\n",
    "s20 = soc_eco20.geometry.sindex # initialize spatial index"
   ]
  },
  {
   "cell_type": "code",
   "execution_count": 21,
   "metadata": {},
   "outputs": [],
   "source": [
    "# see https://geopandas.org/en/stable/docs/reference/api/geopandas.sindex.SpatialIndex.nearest.html\n",
    "matched = s20.nearest(soc_eco21.geometry, max_distance=0.5, return_all = False) # quite fast"
   ]
  },
  {
   "cell_type": "code",
   "execution_count": 22,
   "metadata": {},
   "outputs": [],
   "source": [
    "# extract the centroids for second-level distance-based matching\n",
    "a = soc_eco21.iloc[matched[0]].geometry.centroid\n",
    "b = soc_eco20.iloc[matched[1]].geometry.centroid"
   ]
  },
  {
   "cell_type": "code",
   "execution_count": 23,
   "metadata": {},
   "outputs": [],
   "source": [
    "# calculate 1-1 distance between elements of a and b\n",
    "dis_array = a.distance(b, align=False)"
   ]
  },
  {
   "cell_type": "code",
   "execution_count": 24,
   "metadata": {},
   "outputs": [],
   "source": [
    "# select matched 2021 rows and augment with distance from their 2020 match to filter later\n",
    "soc_eco21 = soc_eco21.iloc[matched[0]].copy()\n",
    "soc_eco21['distance'] = dis_array"
   ]
  },
  {
   "cell_type": "code",
   "execution_count": 25,
   "metadata": {},
   "outputs": [],
   "source": [
    "# select matched 2020 rows and drop obsolete 2020 geometry\n",
    "soc_eco20 = soc_eco20.iloc[matched[1]].copy()\n",
    "soc_eco20 = soc_eco20.drop(columns=['geometry'])"
   ]
  },
  {
   "cell_type": "code",
   "execution_count": 26,
   "metadata": {},
   "outputs": [],
   "source": [
    "# horizontal concatenation of 2021 and 2020 data\n",
    "final = pd.concat([soc_eco21.reset_index(drop=True), soc_eco20.reset_index(drop=True)], axis=1)"
   ]
  },
  {
   "cell_type": "code",
   "execution_count": 27,
   "metadata": {},
   "outputs": [],
   "source": [
    "# only keep 2021 geometries whose distance from their 2020 match is \"small\"\n",
    "final = final[final['distance'] < 3]"
   ]
  },
  {
   "attachments": {},
   "cell_type": "markdown",
   "metadata": {},
   "source": [
    "### 4. Augment data with ERA5 climate indices\n",
    "\n",
    "ERA5 data are open-source. See ```cds-api-data-retrieval.ipynb``` for the API call used to retrieve them in ```xarray``` format."
   ]
  },
  {
   "cell_type": "code",
   "execution_count": 28,
   "metadata": {},
   "outputs": [],
   "source": [
    "os.chdir('/home/noa2/EIFFEL-git/data/raw')\n",
    "era = xr.open_dataset('era').rio.write_crs(\"EPSG:4326\").rio.reproject(\"EPSG:3857\") # ERA5 uses 4326"
   ]
  },
  {
   "cell_type": "code",
   "execution_count": 29,
   "metadata": {},
   "outputs": [],
   "source": [
    "# select Jan 2020 - Dec 2021 data, and average over the months to get one value per ERA5 cell\n",
    "era = era.sel(time=slice('2020-01-01T00:00:00.000000000', '2021-12-01T00:00:00.000000000'))\n",
    "era = era.mean(dim='time')\n",
    "era = era.to_dataframe().reset_index()"
   ]
  },
  {
   "cell_type": "code",
   "execution_count": 30,
   "metadata": {},
   "outputs": [],
   "source": [
    "# create dataframe from centroids of each ERA5 cell (hence point geometries)\n",
    "era = gpd.GeoDataFrame(era, geometry=gpd.points_from_xy(era.x, era.y)).set_crs(\"EPSG:3857\")"
   ]
  },
  {
   "cell_type": "code",
   "execution_count": 31,
   "metadata": {},
   "outputs": [],
   "source": [
    "# to create an ERA5 square grid, calculate the distance between two neighboring ERA5 centroids and create a square buffer\n",
    "a1 = era.geometry[1]\n",
    "a2 = era.geometry[2]\n",
    "buf = a1.distance(a2) / 2\n",
    "era.geometry = era.geometry.buffer(buf, cap_style = 3)"
   ]
  },
  {
   "cell_type": "code",
   "execution_count": 32,
   "metadata": {},
   "outputs": [
    {
     "name": "stderr",
     "output_type": "stream",
     "text": [
      "The `op` parameter is deprecated and will be removed in a future release. Please use the `predicate` parameter instead.\n"
     ]
    }
   ],
   "source": [
    "# Left spatial join final with era, matching a final polygon with an ERA5 cell if the former is covered by the latter\n",
    "# covered by in the following sense: https://shapely.readthedocs.io/en/stable/manual.html\n",
    "final_era = gpd.sjoin(final, era, how=\"left\", op=\"covered_by\") # quite fast"
   ]
  },
  {
   "cell_type": "code",
   "execution_count": 33,
   "metadata": {},
   "outputs": [
    {
     "data": {
      "text/plain": [
       "Index(['code', 'lithuania_', 'geometry', 'name', 'group_i', 'id', 'Programa',\n",
       "       'RGR', 'I group', 'II group', 'III group', 'IV group', 'V group',\n",
       "       'VI group', 'VII group', 'VIII group', 'is_eco', 'distance', 'code',\n",
       "       'name', 'group_i', 'id', 'Programa', 'RGR', 'I group', 'II group',\n",
       "       'III group', 'IV group', 'V group', 'VI group', 'VII group',\n",
       "       'VIII group', 'is_eco', 'index_right', 'x', 'y', 'spatial_ref', 'u10',\n",
       "       'v10', 'd2m', 't2m', 'evabs', 'evaow', 'evatc', 'evavt', 'fal',\n",
       "       'lai_hv', 'lai_lv', 'pev', 'ro', 'src', 'skt', 'asn', 'snowc', 'rsn',\n",
       "       'sde', 'sd', 'es', 'sf', 'smlt', 'stl1', 'stl2', 'stl3', 'stl4', 'ssro',\n",
       "       'slhf', 'ssr', 'str', 'sp', 'sro', 'sshf', 'ssrd', 'strd', 'tsn', 'e',\n",
       "       'tp', 'swvl1', 'swvl2', 'swvl3', 'swvl4'],\n",
       "      dtype='object')"
      ]
     },
     "execution_count": 33,
     "metadata": {},
     "output_type": "execute_result"
    }
   ],
   "source": [
    "# the final, matched 2020-21 dataset augmented with ERA5\n",
    "final_era.columns"
   ]
  },
  {
   "cell_type": "code",
   "execution_count": 34,
   "metadata": {},
   "outputs": [],
   "source": [
    "# smart deduplication of column names that would cause downstream problems\n",
    "final_era.columns = pd.io.parsers.base_parser.ParserBase({'names':final_era.columns, 'usecols':None})._maybe_dedup_names(final_era.columns)"
   ]
  },
  {
   "cell_type": "code",
   "execution_count": 35,
   "metadata": {},
   "outputs": [],
   "source": [
    "# define double_eco treatment, binary indicator for eco-friendly parcels in both years\n",
    "final_era['double_eco'] = np.where((final_era['is_eco'] == 1)  & (final_era['is_eco.1'] == 1), 1, 0)"
   ]
  },
  {
   "cell_type": "code",
   "execution_count": 36,
   "metadata": {},
   "outputs": [],
   "source": [
    "# drop obsolete info and na values\n",
    "final_era = final_era.drop(columns=['RGR', 'RGR.1']).dropna()"
   ]
  },
  {
   "cell_type": "markdown",
   "metadata": {},
   "source": [
    "### 5. Causal analysis with EconML"
   ]
  },
  {
   "cell_type": "code",
   "execution_count": 37,
   "metadata": {},
   "outputs": [],
   "source": [
    "# standard scaler for all ERA5 data\n",
    "scaler = StandardScaler()\n",
    "final_era.iloc[:, 36:78] = scaler.fit_transform(final_era.iloc[:, 36:78])"
   ]
  },
  {
   "cell_type": "code",
   "execution_count": 38,
   "metadata": {},
   "outputs": [],
   "source": [
    "# create \"crop sequence\" variable, concatenating the 2020 and 2021 crop code for each parcel\n",
    "final_era['crop_seq'] = final_era['code'] + '-' + final_era['code.1']"
   ]
  },
  {
   "cell_type": "code",
   "execution_count": 39,
   "metadata": {},
   "outputs": [
    {
     "data": {
      "text/plain": [
       "DGP-DGP    40818\n",
       "GPŽ-GPŽ    19561\n",
       "KVŽ-KVŽ    11242\n",
       "KVŽ-RAŽ     7987\n",
       "KTŽ-KTŽ     7381\n",
       "Name: crop_seq, dtype: int64"
      ]
     },
     "execution_count": 39,
     "metadata": {},
     "output_type": "execute_result"
    }
   ],
   "source": [
    "# the most prominent crop sequences found in the dataset\n",
    "final_era.crop_seq.value_counts()[:5]"
   ]
  },
  {
   "cell_type": "code",
   "execution_count": 40,
   "metadata": {},
   "outputs": [],
   "source": [
    "# the plan is to account for heterogeneity caused by different crops\n",
    "# create dummies for the most prominent crop sequences only (those seen > 10000 times)\n",
    "cats = final_era.crop_seq.value_counts()[lambda x: x > 10000].index\n",
    "temp = pd.get_dummies(pd.Categorical(final_era['crop_seq'], categories=cats))"
   ]
  },
  {
   "cell_type": "code",
   "execution_count": 41,
   "metadata": {},
   "outputs": [],
   "source": [
    "# horizontal concatenation of the dummies to the final dataset\n",
    "final_era = pd.concat([final_era, temp], axis=1)"
   ]
  },
  {
   "cell_type": "code",
   "execution_count": 42,
   "metadata": {},
   "outputs": [],
   "source": [
    "final_era = final_era.dropna()"
   ]
  },
  {
   "cell_type": "code",
   "execution_count": 43,
   "metadata": {},
   "outputs": [],
   "source": [
    "# in these preliminary results, we restrict the dataset to the three most prominent crop combinations, and learn CATEs for them\n",
    "final_era_f = final_era.loc[~((final_era['DGP-DGP'] == 0) & (final_era['GPŽ-GPŽ'] == 0) & (final_era['KVŽ-KVŽ'] == 0)), :]"
   ]
  },
  {
   "cell_type": "code",
   "execution_count": 44,
   "metadata": {},
   "outputs": [],
   "source": [
    "# Y = outcome, T = treatment, W = controls, X = heterogeneity controls\n",
    "Y = final_era_f.lithuania_\n",
    "T = final_era_f.double_eco.astype(int) # only 7k double eco\n",
    "W = final_era_f.iloc[:, 36:78] # ERA5, if need crop groups on W can use e.g. np.r_[3:46, 51:59]\n",
    "X = final_era_f.iloc[:, -3:] # the type of rotation, with binary variables for the most prominent rotations"
   ]
  },
  {
   "cell_type": "code",
   "execution_count": 45,
   "metadata": {},
   "outputs": [],
   "source": [
    "# further restrict ERA5 controls to the most significant climate variables\n",
    "W = final_era_f.loc[:, ['u10', 'v10', 't2m', 'evavt', 'lai_lv', 'ro', 'stl1', 'tp', 'swvl1']]"
   ]
  },
  {
   "cell_type": "code",
   "execution_count": 46,
   "metadata": {},
   "outputs": [
    {
     "data": {
      "text/plain": [
       "<econml.dml.dml.LinearDML at 0x7f3468df2950>"
      ]
     },
     "execution_count": 46,
     "metadata": {},
     "output_type": "execute_result"
    }
   ],
   "source": [
    "# train a LinearDML, do not fit cate intercept here for simpler interpretation of point estimates\n",
    "est0 = LinearDML(model_y=RandomForestRegressor(random_state=42), model_t=RandomForestClassifier(random_state=42), random_state=123, fit_cate_intercept = False)\n",
    "est0.fit(Y, T, X=X, W=W)"
   ]
  },
  {
   "cell_type": "code",
   "execution_count": 47,
   "metadata": {},
   "outputs": [
    {
     "name": "stdout",
     "output_type": "stream",
     "text": [
      "CATE Intercept Results:  No intercept was fitted!\n"
     ]
    },
    {
     "data": {
      "text/html": [
       "<table class=\"simpletable\">\n",
       "<caption>Coefficient Results</caption>\n",
       "<tr>\n",
       "   <td></td>  <th>point_estimate</th> <th>stderr</th>  <th>zstat</th> <th>pvalue</th> <th>ci_lower</th> <th>ci_upper</th>\n",
       "</tr>\n",
       "<tr>\n",
       "  <th>X0</th>      <td>0.058</td>      <td>0.141</td>  <td>0.407</td>  <td>0.684</td>   <td>-0.22</td>    <td>0.335</td> \n",
       "</tr>\n",
       "<tr>\n",
       "  <th>X1</th>     <td>-0.077</td>      <td>0.174</td> <td>-0.443</td>  <td>0.658</td>  <td>-0.418</td>    <td>0.264</td> \n",
       "</tr>\n",
       "<tr>\n",
       "  <th>X2</th>     <td>-0.088</td>      <td>0.275</td> <td>-0.319</td>  <td>0.749</td>  <td>-0.628</td>    <td>0.452</td> \n",
       "</tr>\n",
       "</table><br/><br/><sub>A linear parametric conditional average treatment effect (CATE) model was fitted:<br/>$Y = \\Theta(X)\\cdot T + g(X, W) + \\epsilon$<br/>where for every outcome $i$ and treatment $j$ the CATE $\\Theta_{ij}(X)$ has the form:<br/>$\\Theta_{ij}(X) = \\phi(X)' coef_{ij} + cate\\_intercept_{ij}$<br/>where $\\phi(X)$ is the output of the `featurizer` or $X$ if `featurizer`=None. Coefficient Results table portrays the $coef_{ij}$ parameter vector for each outcome $i$ and treatment $j$. Intercept Results table portrays the $cate\\_intercept_{ij}$ parameter.</sub>"
      ],
      "text/plain": [
       "<class 'econml.utilities.Summary'>\n",
       "\"\"\"\n",
       "                  Coefficient Results                   \n",
       "========================================================\n",
       "   point_estimate stderr zstat  pvalue ci_lower ci_upper\n",
       "--------------------------------------------------------\n",
       "X0          0.058  0.141  0.407  0.684    -0.22    0.335\n",
       "X1         -0.077  0.174 -0.443  0.658   -0.418    0.264\n",
       "X2         -0.088  0.275 -0.319  0.749   -0.628    0.452\n",
       "--------------------------------------------------------\n",
       "\n",
       "<sub>A linear parametric conditional average treatment effect (CATE) model was fitted:\n",
       "$Y = \\Theta(X)\\cdot T + g(X, W) + \\epsilon$\n",
       "where for every outcome $i$ and treatment $j$ the CATE $\\Theta_{ij}(X)$ has the form:\n",
       "$\\Theta_{ij}(X) = \\phi(X)' coef_{ij} + cate\\_intercept_{ij}$\n",
       "where $\\phi(X)$ is the output of the `featurizer` or $X$ if `featurizer`=None. Coefficient Results table portrays the $coef_{ij}$ parameter vector for each outcome $i$ and treatment $j$. Intercept Results table portrays the $cate\\_intercept_{ij}$ parameter.</sub>\n",
       "\"\"\""
      ]
     },
     "execution_count": 47,
     "metadata": {},
     "output_type": "execute_result"
    }
   ],
   "source": [
    "# inference on learned causal parameters\n",
    "est0.summary()"
   ]
  },
  {
   "cell_type": "code",
   "execution_count": 48,
   "metadata": {},
   "outputs": [
    {
     "data": {
      "image/png": "[encoded data removed]",
      "text/latex": [
       "$\\displaystyle -0.00253638347343484$"
      ],
      "text/plain": [
       "-0.002536383473434845"
      ]
     },
     "execution_count": 48,
     "metadata": {},
     "output_type": "execute_result"
    }
   ],
   "source": [
    "# average CATEs over X to get a simple ATE estimate (inference only over the training set restricted to most prominent crop combination)\n",
    "est0.effect(X).mean()"
   ]
  },
  {
   "cell_type": "markdown",
   "metadata": {},
   "source": [
    "### 6. Visualizing the results"
   ]
  },
  {
   "cell_type": "code",
   "execution_count": 49,
   "metadata": {},
   "outputs": [],
   "source": [
    "# restrict the big dataset to random bbox (includes crop combinations are than the prominent ones)\n",
    "eco_to_viz0 = final_era.cx[2840415.203:2853466.007, 7252025.724:7261150.492].geometry.reset_index().drop(columns=['index'])"
   ]
  },
  {
   "cell_type": "code",
   "execution_count": 50,
   "metadata": {},
   "outputs": [],
   "source": [
    "# assign the corresponding estimated CATEs to the new df\n",
    "eco_to_viz0 = eco_to_viz0.assign(C=est0.effect(final_era.cx[2840415.203:2853466.007, 7252025.724:7261150.492].iloc[:, -3:]))"
   ]
  },
  {
   "cell_type": "code",
   "execution_count": 51,
   "metadata": {},
   "outputs": [
    {
     "data": {
      "image/png": "[encoded data removed]",
      "text/plain": [
       "<Figure size 576x288 with 2 Axes>"
      ]
     },
     "metadata": {
      "needs_background": "light"
     },
     "output_type": "display_data"
    }
   ],
   "source": [
    "# visualize CATE map with geopandas (all rows)\n",
    "eco_to_viz0.plot(column='C', legend=True, figsize = (8,4));"
   ]
  },
  {
   "cell_type": "code",
   "execution_count": 52,
   "metadata": {},
   "outputs": [],
   "source": [
    "# export shape file for QGIS beautification\n",
    "eco_to_viz0.to_file(\"results_all.shp\")"
   ]
  },
  {
   "cell_type": "code",
   "execution_count": 53,
   "metadata": {},
   "outputs": [
    {
     "data": {
      "image/png": "[encoded data removed]",
      "text/plain": [
       "<Figure size 576x288 with 2 Axes>"
      ]
     },
     "metadata": {
      "needs_background": "light"
     },
     "output_type": "display_data"
    }
   ],
   "source": [
    "# do the same for the restricted dataset (see parcels it also saw during training)\n",
    "eco_to_viz1 = final_era_f.cx[2840415.203:2853466.007, 7252025.724:7261150.492].geometry.reset_index().drop(columns=['index'])\n",
    "eco_to_viz1 = eco_to_viz1.assign(C=est0.effect(final_era_f.cx[2840415.203:2853466.007, 7252025.724:7261150.492].iloc[:, -3:]))\n",
    "eco_to_viz1.plot(column='C', legend=True, figsize = (8,4));"
   ]
  },
  {
   "cell_type": "code",
   "execution_count": 54,
   "metadata": {},
   "outputs": [],
   "source": [
    "# export shape file for QGIS beautification\n",
    "eco_to_viz1.to_file(\"results_X_only.shp\")"
   ]
  }
 ],
 "metadata": {
  "kernelspec": {
   "display_name": "eiffel",
   "language": "python",
   "name": "python3"
  },
  "language_info": {
   "codemirror_mode": {
    "name": "ipython",
    "version": 3
   },
   "file_extension": ".py",
   "mimetype": "text/x-python",
   "name": "python",
   "nbconvert_exporter": "python",
   "pygments_lexer": "ipython3",
   "version": "3.7.11"
  },
  "orig_nbformat": 4,
  "vscode": {
   "interpreter": {
    "hash": "7258697ed51efff87c53f50f40c40e8fe823fc1f0641f496f75556fc2dc2d153"
   }
  }
 },
 "nbformat": 4,
 "nbformat_minor": 2
}
