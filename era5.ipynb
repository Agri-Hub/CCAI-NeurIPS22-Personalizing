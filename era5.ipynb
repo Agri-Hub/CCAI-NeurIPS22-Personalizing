{
 "cells": [
  {
   "cell_type": "markdown",
   "id": "1b2ff90d",
   "metadata": {},
   "source": [
    "# Copernicus Climate Data Store API call - ERA5 Land Monthly Data"
   ]
  },
  {
   "cell_type": "markdown",
   "id": "ed3d3d13",
   "metadata": {},
   "source": [
    "This notebook retrieves relevant ERA5 data from CDS. Monthly values from Jan 2017 to Dec 2021 over a Lithuanian bbox."
   ]
  },
  {
   "cell_type": "code",
   "execution_count": 1,
   "id": "6d9b2d0d",
   "metadata": {},
   "outputs": [],
   "source": [
    "import netCDF4\n",
    "import xarray as xr \n",
    "import rioxarray as rio\n",
    "import pandas as pd\n",
    "import geopandas as gpd\n",
    "import os\n",
    "import matplotlib\n",
    "import glob"
   ]
  },
  {
   "cell_type": "code",
   "execution_count": 2,
   "id": "8c65dbba",
   "metadata": {},
   "outputs": [
    {
     "name": "stderr",
     "output_type": "stream",
     "text": [
      "2022-06-07 12:58:35,545 INFO Welcome to the CDS\n",
      "2022-06-07 12:58:35,550 INFO Sending request to https://cds.climate.copernicus.eu/api/v2/resources/reanalysis-era5-land-monthly-means\n",
      "2022-06-07 12:58:35,672 INFO Request is queued\n",
      "2022-06-07 13:26:59,200 INFO Request is running\n",
      "2022-06-07 13:35:00,735 INFO Request is completed\n",
      "2022-06-07 13:35:00,743 INFO Downloading https://download-0005-clone.copernicus-climate.eu/cache-compute-0005/cache/data2/adaptor.mars.internal-1654608891.4245417-11955-11-030b02e2-fb03-4a3b-b1f5-e77735db1c5b.nc to download.nc (16.4M)\n",
      "2022-06-07 13:35:02,051 INFO Download rate 12.5M/s                              \n"
     ]
    },
    {
     "data": {
      "text/plain": [
       "Result(content_length=17149476,content_type=application/x-netcdf,location=https://download-0005-clone.copernicus-climate.eu/cache-compute-0005/cache/data2/adaptor.mars.internal-1654608891.4245417-11955-11-030b02e2-fb03-4a3b-b1f5-e77735db1c5b.nc)"
      ]
     },
     "execution_count": 2,
     "metadata": {},
     "output_type": "execute_result"
    }
   ],
   "source": [
    "#!/usr/bin/env python\n",
    "import cdsapi\n",
    "\n",
    "c = cdsapi.Client()\n",
    "\n",
    "c.retrieve(\n",
    "    'reanalysis-era5-land-monthly-means',\n",
    "    {\n",
    "        'product_type': 'monthly_averaged_reanalysis',\n",
    "        'variable': [\n",
    "            '10m_u_component_of_wind', '10m_v_component_of_wind', '2m_dewpoint_temperature',\n",
    "            '2m_temperature', 'evaporation_from_bare_soil', 'evaporation_from_open_water_surfaces_excluding_oceans',\n",
    "            'evaporation_from_the_top_of_canopy', 'evaporation_from_vegetation_transpiration', 'forecast_albedo',\n",
    "            'leaf_area_index_high_vegetation', 'leaf_area_index_low_vegetation', 'potential_evaporation',\n",
    "            'runoff', 'skin_reservoir_content', 'skin_temperature',\n",
    "            'snow_albedo', 'snow_cover', 'snow_density',\n",
    "            'snow_depth', 'snow_depth_water_equivalent', 'snow_evaporation',\n",
    "            'snowfall', 'snowmelt', 'soil_temperature_level_1',\n",
    "            'soil_temperature_level_2', 'soil_temperature_level_3', 'soil_temperature_level_4',\n",
    "            'sub_surface_runoff', 'surface_latent_heat_flux', 'surface_net_solar_radiation',\n",
    "            'surface_net_thermal_radiation', 'surface_pressure', 'surface_runoff',\n",
    "            'surface_sensible_heat_flux', 'surface_solar_radiation_downwards', 'surface_thermal_radiation_downwards',\n",
    "            'temperature_of_snow_layer', 'total_evaporation', 'total_precipitation',\n",
    "            'volumetric_soil_water_layer_1', 'volumetric_soil_water_layer_2', 'volumetric_soil_water_layer_3',\n",
    "            'volumetric_soil_water_layer_4',\n",
    "        ],\n",
    "        'year': [\n",
    "            '2017', '2018', '2019', '2020', '2021',\n",
    "        ],\n",
    "        'month': [\n",
    "            '01', '02', '03',\n",
    "            '04', '05', '06',\n",
    "            '07', '08', '09',\n",
    "            '10', '11', '12',\n",
    "        ],\n",
    "        'time': '00:00',\n",
    "        'area': [\n",
    "            57, 20, 53,\n",
    "            28,\n",
    "        ],\n",
    "        'format': 'netcdf',\n",
    "    },\n",
    "    'era5.nc')"
   ]
  }
 ],
 "metadata": {
  "kernelspec": {
   "display_name": "Python 3.7.11 ('eiffel')",
   "language": "python",
   "name": "python3"
  },
  "language_info": {
   "codemirror_mode": {
    "name": "ipython",
    "version": 3
   },
   "file_extension": ".py",
   "mimetype": "text/x-python",
   "name": "python",
   "nbconvert_exporter": "python",
   "pygments_lexer": "ipython3",
   "version": "3.7.11 (default, Jul 27 2021, 14:32:16) \n[GCC 7.5.0]"
  },
  "vscode": {
   "interpreter": {
    "hash": "7258697ed51efff87c53f50f40c40e8fe823fc1f0641f496f75556fc2dc2d153"
   }
  }
 },
 "nbformat": 4,
 "nbformat_minor": 5
}
